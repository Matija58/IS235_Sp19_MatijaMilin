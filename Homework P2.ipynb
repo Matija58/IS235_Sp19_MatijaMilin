{
 "cells": [
  {
   "cell_type": "code",
   "execution_count": null,
   "metadata": {
    "scrolled": true
   },
   "outputs": [
    {
     "name": "stdout",
     "output_type": "stream",
     "text": [
      "Please input a message.hello my name is matija\n",
      "Inputted_Message 22 a\n",
      "Inputted_Message 21 j\n",
      "Inputted_Message 20 i\n",
      "Inputted_Message 19 t\n",
      "Inputted_Message 18 a\n",
      "Inputted_Message 17 m\n",
      "Inputted_Message 16  \n",
      "Inputted_Message 15 s\n",
      "Inputted_Message 14 i\n",
      "Inputted_Message 13  \n",
      "Inputted_Message 12 e\n",
      "Inputted_Message 11 m\n",
      "Inputted_Message 10 a\n",
      "Inputted_Message 9 n\n",
      "Inputted_Message 8  \n",
      "Inputted_Message 7 y\n",
      "Inputted_Message 6 m\n",
      "Inputted_Message 5  \n",
      "Inputted_Message 4 o\n",
      "Inputted_Message 3 l\n",
      "Inputted_Message 2 l\n",
      "Inputted_Message 1 e\n",
      "Inputted_Message 0 h\n"
     ]
    }
   ],
   "source": [
    "Inputted_Message = input(\"Please input a message.\")\n",
    "high=len(Inputted_Message)\n",
    "low=-len(Inputted_Message)\n",
    "position=high-1\n",
    "for x in range(len(Inputted_Message)):\n",
    "    print(\"Inputted_Message\", position, Inputted_Message[position])\n",
    "    position-=1\n",
    "input(\"Press enter to exit.\")"
   ]
  },
  {
   "cell_type": "code",
   "execution_count": null,
   "metadata": {},
   "outputs": [],
   "source": []
  }
 ],
 "metadata": {
  "kernelspec": {
   "display_name": "Python 3",
   "language": "python",
   "name": "python3"
  },
  "language_info": {
   "codemirror_mode": {
    "name": "ipython",
    "version": 3
   },
   "file_extension": ".py",
   "mimetype": "text/x-python",
   "name": "python",
   "nbconvert_exporter": "python",
   "pygments_lexer": "ipython3",
   "version": "3.7.1"
  }
 },
 "nbformat": 4,
 "nbformat_minor": 2
}
